{
  "cells": [
    {
      "cell_type": "markdown",
      "metadata": {
        "id": "view-in-github",
        "colab_type": "text"
      },
      "source": [
        "<a href=\"https://colab.research.google.com/github/vanassap98/ONLINE_DS_THEBRIDGE_MOD1/blob/main/Ejercicio_Extra_Pandas.ipynb\" target=\"_parent\"><img src=\"https://colab.research.google.com/assets/colab-badge.svg\" alt=\"Open In Colab\"/></a>"
      ]
    },
    {
      "cell_type": "markdown",
      "metadata": {
        "id": "bTpObCtMMmoS"
      },
      "source": [
        "![image.png](attachment:image.png)"
      ]
    },
    {
      "cell_type": "markdown",
      "metadata": {
        "id": "scUxspt4MmoV"
      },
      "source": [
        "![image.png](attachment:image.png)"
      ]
    },
    {
      "cell_type": "markdown",
      "metadata": {
        "id": "BKBr4SshMmoV"
      },
      "source": [
        "Este es un ejercicio extra por si quieres practicar más el filtrado de dataframes, en algunos apartados tendrás que recordar métodos empleados en ejercicios de la unidad anterior.\n",
        "A por ello"
      ]
    },
    {
      "cell_type": "markdown",
      "metadata": {
        "id": "exymLcO5MmoW"
      },
      "source": [
        "# Fictional Army - Filtrado y ordenado"
      ]
    },
    {
      "cell_type": "code",
      "execution_count": null,
      "metadata": {
        "id": "7FJzXUgrMmoW"
      },
      "outputs": [],
      "source": [
        "import pandas as pd"
      ]
    },
    {
      "cell_type": "markdown",
      "metadata": {
        "id": "PhNOZ264MmoX"
      },
      "source": [
        "### Paso 2. Estos son los datos dados en forma de diccionario"
      ]
    },
    {
      "cell_type": "code",
      "execution_count": null,
      "metadata": {
        "id": "EfhaQ7lPMmoY"
      },
      "outputs": [],
      "source": [
        "# Create an example dataframe about a fictional army\n",
        "raw_data = {'regiment': ['Nighthawks', 'Nighthawks', 'Nighthawks', 'Nighthawks', 'Dragoons', 'Dragoons', 'Dragoons', 'Dragoons', 'Scouts', 'Scouts', 'Scouts', 'Scouts'],\n",
        "            'company': ['1st', '1st', '2nd', '2nd', '1st', '1st', '2nd', '2nd','1st', '1st', '2nd', '2nd'],\n",
        "            'deaths': [523, 52, 25, 616, 43, 234, 523, 62, 62, 73, 37, 35],\n",
        "            'battles': [5, 42, 2, 2, 4, 7, 8, 3, 4, 7, 8, 9],\n",
        "            'size': [1045, 957, 1099, 1400, 1592, 1006, 987, 849, 973, 1005, 1099, 1523],\n",
        "            'veterans': [1, 5, 62, 26, 73, 37, 949, 48, 48, 435, 63, 345],\n",
        "            'readiness': [1, 2, 3, 3, 2, 1, 2, 3, 2, 1, 2, 3],\n",
        "            'armored': [1, 0, 1, 1, 0, 1, 0, 1, 0, 0, 1, 1],\n",
        "            'deserters': [4, 24, 31, 2, 3, 4, 24, 31, 2, 3, 2, 3],\n",
        "            'origin': ['Arizona', 'California', 'Texas', 'Florida', 'Maine', 'Iowa', 'Alaska', 'Washington', 'Oregon', 'Wyoming', 'Louisana', 'Georgia']}"
      ]
    },
    {
      "cell_type": "markdown",
      "metadata": {
        "id": "Vp-fJjqZMmoY"
      },
      "source": [
        "### Paso 3. Crear un dataframe y asignarlo a una variable llamada ejército."
      ]
    },
    {
      "cell_type": "markdown",
      "metadata": {
        "id": "wsfDDCkMMmoZ"
      },
      "source": [
        "### Paso 4. Pon la columna \"origin\" como índice del marco de datos"
      ]
    },
    {
      "cell_type": "markdown",
      "metadata": {
        "id": "5EKmdvX7MmoZ"
      },
      "source": [
        "### Paso 5. Imprima sólo los veteranos de la columna"
      ]
    },
    {
      "cell_type": "markdown",
      "metadata": {
        "id": "yc5IbZ-6MmoZ"
      },
      "source": [
        "### Paso 6. Imprime las columnas \"veterans\" y \"deaths\""
      ]
    },
    {
      "cell_type": "markdown",
      "metadata": {
        "id": "SgcSaHdCMmoa"
      },
      "source": [
        "### Paso 7. Imprime el nombre de todas las columnas."
      ]
    },
    {
      "cell_type": "markdown",
      "metadata": {
        "id": "YTD_pzx-Mmoa"
      },
      "source": [
        "### Paso 8. Seleccione las columnas \"deaths\", \"size\" y \"deserters\" de Maine y Alaska"
      ]
    },
    {
      "cell_type": "markdown",
      "metadata": {
        "id": "hARnConcMmoa"
      },
      "source": [
        "### Paso 9. Selecciona las filas 3 a 7 y las columnas 3 a 6"
      ]
    },
    {
      "cell_type": "markdown",
      "metadata": {
        "id": "5usU_r8cMmoa"
      },
      "source": [
        "### Paso 10. Selecciona todas las filas después de la cuarta fila y todas las columnas"
      ]
    },
    {
      "cell_type": "markdown",
      "metadata": {
        "id": "qfLEjidnMmoa"
      },
      "source": [
        "### Paso 11. Selecciona todas las filas hasta la 4ª fila y todas las columnas"
      ]
    },
    {
      "cell_type": "markdown",
      "metadata": {
        "id": "wUF4v6RQMmoa"
      },
      "source": [
        "### Paso 12. Seleccione la 3ª columna hasta la 7ª columna"
      ]
    },
    {
      "cell_type": "markdown",
      "metadata": {
        "id": "cxUnIhitMmoa"
      },
      "source": [
        "### Paso 13. Selecciona las filas en las que df.deaths es mayor que 50\n"
      ]
    },
    {
      "cell_type": "markdown",
      "metadata": {
        "id": "3ghJ1KDYMmoa"
      },
      "source": [
        "### Paso 14. Selecciona las filas en las que df.deaths es mayor que 500 o menor que 50"
      ]
    },
    {
      "cell_type": "markdown",
      "metadata": {
        "id": "jami6480Mmob"
      },
      "source": [
        "### Paso 15. Seleccione todos los regimientos que no se llamen \"Dragoons\""
      ]
    },
    {
      "cell_type": "markdown",
      "metadata": {
        "id": "pTTS4NxtMmob"
      },
      "source": [
        "### Paso 16. Selecciona las filas denominadas Texas y Arizona"
      ]
    },
    {
      "cell_type": "markdown",
      "metadata": {
        "id": "WlsaBOgLMmob"
      },
      "source": [
        "### Paso 17. Selecciona la tercera celda de la fila llamada Arizona"
      ]
    },
    {
      "cell_type": "markdown",
      "metadata": {
        "id": "xYdiEnNqMmob"
      },
      "source": [
        "### Paso 18. Selecciona la tercera celda en la columna llamada muertes"
      ]
    }
  ],
  "metadata": {
    "kernelspec": {
      "display_name": "Python 3.7.9 64-bit",
      "language": "python",
      "name": "python3"
    },
    "language_info": {
      "codemirror_mode": {
        "name": "ipython",
        "version": 3
      },
      "file_extension": ".py",
      "mimetype": "text/x-python",
      "name": "python",
      "nbconvert_exporter": "python",
      "pygments_lexer": "ipython3",
      "version": "3.7.9"
    },
    "vscode": {
      "interpreter": {
        "hash": "ec2a379ed5c25334a484232182c9d38ef8bd9861e2542d0c517568c4f99a9a7c"
      }
    },
    "colab": {
      "provenance": [],
      "include_colab_link": true
    }
  },
  "nbformat": 4,
  "nbformat_minor": 0
}